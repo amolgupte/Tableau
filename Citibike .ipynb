{
 "cells": [
  {
   "cell_type": "code",
   "execution_count": 1,
   "metadata": {},
   "outputs": [],
   "source": [
    "import pandas as pd\n",
    "\n",
    "df1 = pd.read_csv (r'C:\\Users\\amolg\\OneDrive\\Desktop\\OneDrive\\DU-DEN-DATA-PT-11-2019-U-C\\02-Homework\\20-Tableau\\Instructions\\Homework\\Data\\201709-citibike-tripdata.csv')"
   ]
  },
  {
   "cell_type": "code",
   "execution_count": 2,
   "metadata": {},
   "outputs": [],
   "source": [
    "df2 = pd.read_csv (r'C:\\Users\\amolg\\OneDrive\\Desktop\\OneDrive\\DU-DEN-DATA-PT-11-2019-U-C\\02-Homework\\20-Tableau\\Instructions\\Homework\\Data\\201710-citibike-tripdata.csv')"
   ]
  },
  {
   "cell_type": "code",
   "execution_count": 3,
   "metadata": {},
   "outputs": [],
   "source": [
    "df3 = pd.read_csv (r'C:\\Users\\amolg\\OneDrive\\Desktop\\OneDrive\\DU-DEN-DATA-PT-11-2019-U-C\\02-Homework\\20-Tableau\\Instructions\\Homework\\Data\\201711-citibike-tripdata.csv')"
   ]
  },
  {
   "cell_type": "code",
   "execution_count": 4,
   "metadata": {},
   "outputs": [],
   "source": [
    "df4 = pd.read_csv (r'C:\\Users\\amolg\\OneDrive\\Desktop\\OneDrive\\DU-DEN-DATA-PT-11-2019-U-C\\02-Homework\\20-Tableau\\Instructions\\Homework\\Data\\201712-citibike-tripdata.csv')"
   ]
  },
  {
   "cell_type": "code",
   "execution_count": 5,
   "metadata": {},
   "outputs": [],
   "source": [
    "df5 = pd.read_csv (r'C:\\Users\\amolg\\OneDrive\\Desktop\\OneDrive\\DU-DEN-DATA-PT-11-2019-U-C\\02-Homework\\20-Tableau\\Instructions\\Homework\\Data\\201801-citibike-tripdata.csv')"
   ]
  },
  {
   "cell_type": "code",
   "execution_count": 6,
   "metadata": {},
   "outputs": [],
   "source": [
    "df6 = pd.read_csv (r'C:\\Users\\amolg\\OneDrive\\Desktop\\OneDrive\\DU-DEN-DATA-PT-11-2019-U-C\\02-Homework\\20-Tableau\\Instructions\\Homework\\Data\\201802-citibike-tripdata.csv')"
   ]
  },
  {
   "cell_type": "code",
   "execution_count": 7,
   "metadata": {},
   "outputs": [],
   "source": [
    "df7 = pd.read_csv (r'C:\\Users\\amolg\\OneDrive\\Desktop\\OneDrive\\DU-DEN-DATA-PT-11-2019-U-C\\02-Homework\\20-Tableau\\Instructions\\Homework\\Data\\201803-citibike-tripdata.csv')"
   ]
  },
  {
   "cell_type": "code",
   "execution_count": 8,
   "metadata": {},
   "outputs": [],
   "source": [
    "df8 = pd.read_csv (r'C:\\Users\\amolg\\OneDrive\\Desktop\\OneDrive\\DU-DEN-DATA-PT-11-2019-U-C\\02-Homework\\20-Tableau\\Instructions\\Homework\\Data\\201804-citibike-tripdata.csv')"
   ]
  },
  {
   "cell_type": "code",
   "execution_count": 9,
   "metadata": {},
   "outputs": [],
   "source": [
    "df9 = pd.read_csv (r'C:\\Users\\amolg\\OneDrive\\Desktop\\OneDrive\\DU-DEN-DATA-PT-11-2019-U-C\\02-Homework\\20-Tableau\\Instructions\\Homework\\Data\\201805-citibike-tripdata.csv')"
   ]
  },
  {
   "cell_type": "code",
   "execution_count": 10,
   "metadata": {},
   "outputs": [],
   "source": [
    "df10 = pd.read_csv (r'C:\\Users\\amolg\\OneDrive\\Desktop\\OneDrive\\DU-DEN-DATA-PT-11-2019-U-C\\02-Homework\\20-Tableau\\Instructions\\Homework\\Data\\201806-citibike-tripdata.csv')"
   ]
  },
  {
   "cell_type": "code",
   "execution_count": 11,
   "metadata": {},
   "outputs": [],
   "source": [
    "df11 = pd.read_csv (r'C:\\Users\\amolg\\OneDrive\\Desktop\\OneDrive\\DU-DEN-DATA-PT-11-2019-U-C\\02-Homework\\20-Tableau\\Instructions\\Homework\\Data\\201807-citibike-tripdata.csv')"
   ]
  },
  {
   "cell_type": "code",
   "execution_count": 12,
   "metadata": {},
   "outputs": [],
   "source": [
    "df12 = pd.read_csv (r'C:\\Users\\amolg\\OneDrive\\Desktop\\OneDrive\\DU-DEN-DATA-PT-11-2019-U-C\\02-Homework\\20-Tableau\\Instructions\\Homework\\Data\\201808-citibike-tripdata.csv')"
   ]
  },
  {
   "cell_type": "code",
   "execution_count": 13,
   "metadata": {},
   "outputs": [
    {
     "name": "stdout",
     "output_type": "stream",
     "text": [
      "         tripduration                 starttime                  stoptime  \\\n",
      "0                 816  2018-03-01 02:29:13.7270  2018-03-01 02:42:50.1460   \n",
      "1                 235  2018-03-01 05:12:37.0320  2018-03-01 05:16:32.1010   \n",
      "2                1250  2018-03-01 05:45:49.9000  2018-03-01 06:06:39.9080   \n",
      "3                 741  2018-03-01 06:54:19.6150  2018-03-01 07:06:40.9790   \n",
      "4                 727  2018-03-01 07:08:38.8610  2018-03-01 07:20:46.8500   \n",
      "...               ...                       ...                       ...   \n",
      "1977172           592  2018-08-31 23:59:27.6530  2018-09-01 00:09:20.5800   \n",
      "1977173           451  2018-08-31 23:59:42.8400  2018-09-01 00:07:14.5330   \n",
      "1977174           472  2018-08-31 23:59:48.5310  2018-09-01 00:07:41.0410   \n",
      "1977175          1239  2018-08-31 23:59:50.7620  2018-09-01 00:20:30.4570   \n",
      "1977176           738  2018-08-31 23:59:55.7330  2018-09-01 00:12:14.0300   \n",
      "\n",
      "         start station id        start station name  start station latitude  \\\n",
      "0                    72.0          W 52 St & 11 Ave               40.767272   \n",
      "1                    72.0          W 52 St & 11 Ave               40.767272   \n",
      "2                    72.0          W 52 St & 11 Ave               40.767272   \n",
      "3                    72.0          W 52 St & 11 Ave               40.767272   \n",
      "4                    72.0          W 52 St & 11 Ave               40.767272   \n",
      "...                   ...                       ...                     ...   \n",
      "1977172            2003.0           1 Ave & E 18 St               40.733812   \n",
      "1977173             249.0   Harrison St & Hudson St               40.718710   \n",
      "1977174             450.0           W 49 St & 8 Ave               40.762272   \n",
      "1977175            3107.0  Bedford Ave & Nassau Ave               40.723117   \n",
      "1977176             504.0           1 Ave & E 16 St               40.732219   \n",
      "\n",
      "         start station longitude  end station id  \\\n",
      "0                     -73.993929           379.0   \n",
      "1                     -73.993929           478.0   \n",
      "2                     -73.993929          3664.0   \n",
      "3                     -73.993929           459.0   \n",
      "4                     -73.993929          2006.0   \n",
      "...                          ...             ...   \n",
      "1977172               -73.980544           518.0   \n",
      "1977173               -74.009001          2008.0   \n",
      "1977174               -73.987882           281.0   \n",
      "1977175               -73.952123           372.0   \n",
      "1977176               -73.981656          3660.0   \n",
      "\n",
      "                          end station name  end station latitude  \\\n",
      "0                          W 31 St & 7 Ave             40.749156   \n",
      "1                         11 Ave & W 41 St             40.760301   \n",
      "2            North Moore St & Greenwich St             40.720195   \n",
      "3                         W 20 St & 11 Ave             40.746745   \n",
      "4                   Central Park S & 6 Ave             40.765909   \n",
      "...                                    ...                   ...   \n",
      "1977172                    E 39 St & 2 Ave             40.747804   \n",
      "1977173              Little West St & 1 Pl             40.705693   \n",
      "1977174  Grand Army Plaza & Central Park S             40.764397   \n",
      "1977175          Franklin Ave & Myrtle Ave             40.694546   \n",
      "1977176                    W 16 St & 8 Ave             40.741022   \n",
      "\n",
      "         end station longitude  bikeid    usertype  birth year  gender  \n",
      "0                   -73.991600   31413  Subscriber        1973       1  \n",
      "1                   -73.998842   33202  Subscriber        1965       1  \n",
      "2                   -74.010301   26675  Subscriber        1984       1  \n",
      "3                   -74.007756   31011  Subscriber        1981       1  \n",
      "4                   -73.976342   30616  Subscriber        1990       2  \n",
      "...                        ...     ...         ...         ...     ...  \n",
      "1977172             -73.973442   33086  Subscriber        1996       1  \n",
      "1977173             -74.016777   33066  Subscriber        1960       1  \n",
      "1977174             -73.973715   28711  Subscriber        1966       1  \n",
      "1977175             -73.958014   33935  Subscriber        1984       1  \n",
      "1977176             -74.001385   28440  Subscriber        1970       1  \n",
      "\n",
      "[9952830 rows x 15 columns]\n"
     ]
    }
   ],
   "source": [
    "#------------Summer - March, April, May, June, July, August------------------#\n",
    "summer = [df7, df8, df9, df10, df11, df12]\n",
    "\n",
    "Summer = pd.concat(summer)\n",
    "\n",
    "print(Summer)"
   ]
  },
  {
   "cell_type": "code",
   "execution_count": 14,
   "metadata": {},
   "outputs": [
    {
     "name": "stdout",
     "output_type": "stream",
     "text": [
      "        tripduration                 starttime                  stoptime  \\\n",
      "0                362       2017-09-01 00:00:17       2017-09-01 00:06:19   \n",
      "1                188       2017-09-01 00:00:21       2017-09-01 00:03:30   \n",
      "2                305       2017-09-01 00:00:25       2017-09-01 00:05:30   \n",
      "3                223       2017-09-01 00:00:52       2017-09-01 00:04:36   \n",
      "4                758       2017-09-01 00:01:01       2017-09-01 00:13:40   \n",
      "...              ...                       ...                       ...   \n",
      "843109           510  2018-02-28 20:54:35.4120  2018-02-28 21:03:06.2820   \n",
      "843110          1953  2018-02-28 20:57:26.0010  2018-02-28 21:29:59.7280   \n",
      "843111           562  2018-02-28 21:15:38.6340  2018-02-28 21:25:01.5660   \n",
      "843112          1013  2018-02-28 21:43:14.6540  2018-02-28 22:00:08.5460   \n",
      "843113          2357  2018-02-28 22:49:10.4780  2018-02-28 23:28:28.3710   \n",
      "\n",
      "        start station id             start station name  \\\n",
      "0                   3331        Riverside Dr & W 104 St   \n",
      "1                   3101          N 12 St & Bedford Ave   \n",
      "2                   3140                1 Ave & E 78 St   \n",
      "3                    236            St Marks Pl & 2 Ave   \n",
      "4                   3427       Lafayette St & Jersey St   \n",
      "...                  ...                            ...   \n",
      "843109              3664  North Moore St & Greenwich St   \n",
      "843110              3664  North Moore St & Greenwich St   \n",
      "843111              3664  North Moore St & Greenwich St   \n",
      "843112              3664  North Moore St & Greenwich St   \n",
      "843113              3664  North Moore St & Greenwich St   \n",
      "\n",
      "        start station latitude  start station longitude  end station id  \\\n",
      "0                    40.801343               -73.971146            3328   \n",
      "1                    40.720798               -73.954847            3100   \n",
      "2                    40.771404               -73.953517            3141   \n",
      "3                    40.728419               -73.987140             473   \n",
      "4                    40.724305               -73.996010            3431   \n",
      "...                        ...                      ...             ...   \n",
      "843109               40.720195               -74.010301             306   \n",
      "843110               40.720195               -74.010301             247   \n",
      "843111               40.720195               -74.010301             279   \n",
      "843112               40.720195               -74.010301            3632   \n",
      "843113               40.720195               -74.010301            3370   \n",
      "\n",
      "                  end station name  end station latitude  \\\n",
      "0         W 100 St & Manhattan Ave             40.795000   \n",
      "1           Nassau Ave & Newell St             40.724813   \n",
      "2                  1 Ave & E 68 St             40.765005   \n",
      "3       Rivington St & Chrystie St             40.721101   \n",
      "4                  E 35 St & 3 Ave             40.746524   \n",
      "...                            ...                   ...   \n",
      "843109      Cliff St & Fulton St_1             40.708235   \n",
      "843110      Perry St & Bleecker St             40.735354   \n",
      "843111        Peck Slip & Front St             40.707873   \n",
      "843112          E 12 St & Avenue B             40.728049   \n",
      "843113             E 78 St & 2 Ave             40.772797   \n",
      "\n",
      "        end station longitude  bikeid    usertype  birth year  gender  \n",
      "0                  -73.964500   14530  Subscriber      1993.0       1  \n",
      "1                  -73.947526   15475  Subscriber      1988.0       1  \n",
      "2                  -73.958185   30346  Subscriber      1969.0       1  \n",
      "3                  -73.991925   28056  Subscriber      1993.0       1  \n",
      "4                  -73.977885   25413  Subscriber      1987.0       1  \n",
      "...                       ...     ...         ...         ...     ...  \n",
      "843109             -74.005301   32273  Subscriber      1991.0       1  \n",
      "843110             -74.004831   17402  Subscriber      1993.0       1  \n",
      "843111             -74.001670   25439  Subscriber      1991.0       1  \n",
      "843112             -73.978812   15068  Subscriber      1994.0       1  \n",
      "843113             -73.955778   26831  Subscriber      1966.0       1  \n",
      "\n",
      "[7558414 rows x 15 columns]\n"
     ]
    }
   ],
   "source": [
    "#------------Winter - September, October, November, December, January, February------------------#\n",
    "winter = [df1, df2, df3, df4, df5, df6]\n",
    "\n",
    "Winter = pd.concat(winter)\n",
    "\n",
    "print(Winter)"
   ]
  },
  {
   "cell_type": "code",
   "execution_count": 16,
   "metadata": {},
   "outputs": [],
   "source": [
    "Summer.to_csv(r'C:\\Users\\amolg\\OneDrive\\Desktop\\OneDrive\\DU-DEN-DATA-PT-11-2019-U-C\\02-Homework\\20-Tableau\\Instructions\\Homework\\Data\\Summer.csv')"
   ]
  },
  {
   "cell_type": "code",
   "execution_count": 17,
   "metadata": {},
   "outputs": [],
   "source": [
    "Winter.to_csv(r'C:\\Users\\amolg\\OneDrive\\Desktop\\OneDrive\\DU-DEN-DATA-PT-11-2019-U-C\\02-Homework\\20-Tableau\\Instructions\\Homework\\Data\\Winter.csv')"
   ]
  },
  {
   "cell_type": "code",
   "execution_count": null,
   "metadata": {},
   "outputs": [],
   "source": []
  }
 ],
 "metadata": {
  "kernelspec": {
   "display_name": "Python 3",
   "language": "python",
   "name": "python3"
  },
  "language_info": {
   "codemirror_mode": {
    "name": "ipython",
    "version": 3
   },
   "file_extension": ".py",
   "mimetype": "text/x-python",
   "name": "python",
   "nbconvert_exporter": "python",
   "pygments_lexer": "ipython3",
   "version": "3.7.4"
  }
 },
 "nbformat": 4,
 "nbformat_minor": 2
}
